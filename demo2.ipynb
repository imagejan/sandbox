{
 "cells": [
  {
   "cell_type": "markdown",
   "metadata": {
    "slideshow": {
     "slide_type": "slide"
    }
   },
   "source": [
    "# Image Processing and Analysis with ImageJ\n",
    "\n",
    "Jan Eglinger\n",
    "\n",
    "![FMI](http://www.fmi.ch/img/logo-FMI-grey.gif)\n",
    "\n",
    "<small>Friedrich Miescher Institute for Biomedical Research (FMI)\n",
    "Basel, Switzerland</small>\n",
    "\n",
    "\n",
    "Fribourg, March 14 - 15, 2018\n"
   ]
  },
  {
   "cell_type": "markdown",
   "metadata": {
    "slideshow": {
     "slide_type": "slide"
    }
   },
   "source": [
    "## Agenda\n",
    "\n",
    "* Introduction to ImageJ / Basics of Image Processing\n",
    "* Image Filtering\n",
    "* Image Segmentation\n",
    "* Batch Processing\n"
   ]
  },
  {
   "cell_type": "markdown",
   "metadata": {
    "slideshow": {
     "slide_type": "notes"
    }
   },
   "source": [
    "#### Note\n",
    "\n",
    "The following code cell serves to initialize some utility functions that are used in the later cells of this notebook.\n",
    "In order to interactively run the code in this presentation, you'll have to run the cell by pressing <kbd>Shift</kbd>+<kbd>Enter</kbd>"
   ]
  },
  {
   "cell_type": "code",
   "execution_count": 54,
   "metadata": {
    "slideshow": {
     "slide_type": "skip"
    }
   },
   "outputs": [],
   "source": [
    "/* SciJava Script Parameters */\n",
    "#@ OpService ops\n",
    "\n",
    "/* Required Imports */\n",
    "import net.imglib2.type.numeric.real.FloatType\n",
    "import net.imglib2.interpolation.randomaccess.FloorInterpolatorFactory\n",
    "\n",
    "/* Utility Functions */\n",
    "def table_image(array) {\n",
    "    img = ops.create().kernel(array as double[][], new FloatType())\n",
    "\n",
    "    return ops.run(\"transform.scaleView\", img,\n",
    "        [32,32] as double[],\n",
    "        new FloorInterpolatorFactory()\n",
    "    )    \n",
    "}\n"
   ]
  },
  {
   "cell_type": "markdown",
   "metadata": {
    "slideshow": {
     "slide_type": "slide"
    }
   },
   "source": [
    "### Image Processing Fundamentals\n",
    "\n",
    "* Digital images\n",
    "* Resolution\n",
    "* Bit depth\n",
    "* Histograms\n",
    "* Color representation\n"
   ]
  },
  {
   "cell_type": "markdown",
   "metadata": {
    "slideshow": {
     "slide_type": "slide"
    }
   },
   "source": [
    "#### Digital images\n",
    "\n",
    "A digital image is just an array of numbers:\n",
    "\n",
    "|   |   |   |   |   |   |   |\n",
    "|---|---|---|---|---|---|---|\n",
    "| 0 | 0 | 1 | 1 | 1 | 0 | 0 |\n",
    "| 0 | 1 | 2 | 2 | 2 | 1 | 0 |\n",
    "| 1 | 2 | 1 | 1 | 1 | 2 | 1 |\n",
    "| 1 | 2 | 1 | 1 | 1 | 2 | 1 |\n",
    "| 1 | 2 | 1 | 1 | 1 | 2 | 1 |\n",
    "| 0 | 1 | 2 | 2 | 2 | 1 | 0 |\n",
    "| 0 | 0 | 1 | 1 | 1 | 0 | 0 |\n",
    "\n"
   ]
  },
  {
   "cell_type": "code",
   "execution_count": 55,
   "metadata": {
    "slideshow": {
     "slide_type": "slide"
    }
   },
   "outputs": [
    {
     "data": {
      "image/png": "[encoded data removed]"
     },
     "execution_count": 55,
     "metadata": {},
     "output_type": "execute_result"
    }
   ],
   "source": [
    "table = [\n",
    "    [ 0, 0, 1, 1, 1, 0, 0],\n",
    "    [ 0, 1, 2, 2, 2, 1, 0],\n",
    "    [ 1, 2, 1, 1, 1, 2, 1],\n",
    "    [ 1, 2, 1, 1, 1, 2, 1],\n",
    "    [ 1, 2, 1, 1, 1, 2, 1],\n",
    "    [ 0, 1, 2, 2, 2, 1, 0],\n",
    "    [ 0, 0, 1, 1, 1, 0, 0]\n",
    "]\n",
    "\n",
    "table_image(table)"
   ]
  },
  {
   "cell_type": "markdown",
   "metadata": {
    "slideshow": {
     "slide_type": "slide"
    }
   },
   "source": [
    "#### Resolution\n",
    "\n",
    "Optical resolution vs. Spatial sampling\n",
    "\n",
    "Intensity sampling\n"
   ]
  },
  {
   "cell_type": "markdown",
   "metadata": {
    "slideshow": {
     "slide_type": "slide"
    }
   },
   "source": [
    "### Bit depth\n",
    "\n",
    "example\n",
    "\n",
    "\n",
    "**Image Types in ImageJ**\n",
    "\n",
    "|  Type  |   Range   |\n",
    "|--------|-----------|\n",
    "|  8-bit |  0 - 255  |\n",
    "| 16-bit | 0 - 65535 |\n"
   ]
  },
  {
   "cell_type": "markdown",
   "metadata": {
    "slideshow": {
     "slide_type": "slide"
    }
   },
   "source": [
    "#### Dimensions\n",
    "\n",
    "xyzct\n"
   ]
  },
  {
   "cell_type": "markdown",
   "metadata": {
    "slideshow": {
     "slide_type": "slide"
    }
   },
   "source": [
    "#### Color information\n",
    "\n",
    "example\n"
   ]
  },
  {
   "cell_type": "markdown",
   "metadata": {
    "slideshow": {
     "slide_type": "slide"
    }
   },
   "source": [
    "Exercise ?"
   ]
  },
  {
   "cell_type": "markdown",
   "metadata": {
    "slideshow": {
     "slide_type": "slide"
    }
   },
   "source": [
    "### ImageJ / Fiji basics\n",
    "\n",
    "* Toolbar / Statusbar\n",
    "* Hyperstack\n",
    "* Search bar\n"
   ]
  },
  {
   "cell_type": "markdown",
   "metadata": {
    "slideshow": {
     "slide_type": "slide"
    }
   },
   "source": [
    "#### Exercises\n",
    "\n",
    "* What's wrong with these sample images?\n",
    "* How many implementations of Mean Filter are there? What's their difference?\n"
   ]
  },
  {
   "cell_type": "markdown",
   "metadata": {
    "slideshow": {
     "slide_type": "slide"
    }
   },
   "source": [
    "### Filtering\n",
    "\n",
    "* Kernel / Convolution\n",
    "* Mean filter\n",
    "* Gauss filter\n",
    "\n",
    "* Non-linear filtering: min/max\n",
    "* => Binary Morphology\n"
   ]
  },
  {
   "cell_type": "markdown",
   "metadata": {
    "slideshow": {
     "slide_type": "slide"
    }
   },
   "source": [
    "#### Linear filtering - Exercise\n",
    "\n",
    "* Create a Mean filter with radius 10; what are the kernel dimensions?\n",
    "\n",
    "#### Morphological operations - Exercise\n",
    "\n",
    "* Find all vertical lines in the image"
   ]
  },
  {
   "cell_type": "markdown",
   "metadata": {
    "slideshow": {
     "slide_type": "slide"
    }
   },
   "source": [
    "### Segmentation\n",
    "\n",
    "* ROIs\n",
    "* Masks\n",
    "* Threshold\n",
    "* Watershed\n",
    "* Skeletonization\n"
   ]
  },
  {
   "cell_type": "markdown",
   "metadata": {
    "slideshow": {
     "slide_type": "slide"
    }
   },
   "source": [
    "#### Exercise\n",
    "\n",
    "* Measure length of larvae"
   ]
  },
  {
   "cell_type": "markdown",
   "metadata": {
    "slideshow": {
     "slide_type": "slide"
    }
   },
   "source": [
    "### Batch processing\n",
    "\n",
    "* Macro recorder\n",
    "* Make your code generic\n",
    "* Process > Batch > Macro...\n",
    "* Script editor\n",
    "\n"
   ]
  },
  {
   "cell_type": "code",
   "execution_count": 1,
   "metadata": {
    "slideshow": {
     "slide_type": "slide"
    }
   },
   "outputs": [
    {
     "name": "stdout",
     "output_type": "stream",
     "text": [
      "org.scijava.io.DefaultIOService [priority = 0.0]\n"
     ]
    }
   ],
   "source": [
    "\n",
    "#@ IOService io\n",
    "\n",
    "println io\n",
    "\n"
   ]
  },
  {
   "cell_type": "code",
   "execution_count": 16,
   "metadata": {
    "slideshow": {
     "slide_type": "slide"
    }
   },
   "outputs": [
    {
     "data": {
      "text/html": [
       "<style>table.converted {color: #333; font-family: Helvetica, Arial, sans-serif; border-collapse: collapse; border-spacing: 0;}table.converted td, table.converted th {border: 1px solid #C9C7C7;}table.converted th, table.converted td.rowLabel {background: #626262; color: #FFFFFF; font-weight: bold; text-align: left;}table.converted td {text-align: left;}table.converted tr:nth-child(even) {background: #F3F3F3;}table.converted tr:nth-child(odd) {background: #FFFFFF;}table.converted tbody tr:hover {background: #BDF4B5;}table.converted td.rowLabel, table.converted th.rowLabel {display: none;}</style><table class =\"converted\"><thead><tr><th>Key</th><th>Value</th></tr></thead><tbody><tr><td>original</td><td><img src=\"data:image/png;base64, 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\" /></td></tr><tr><td>result2bit</td><td><img src=\"data:image/png;base64, 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\" /></td></tr></tbody></table>"
      ]
     },
     "execution_count": 16,
     "metadata": {},
     "output_type": "execute_result"
    }
   ],
   "source": [
    "#@ IOService io\n",
    "#@ OpService ops\n",
    "#@output original\n",
    "#@output result2bit\n",
    "\n",
    "original = io.open(\"images/nucleus.png\")\n",
    "\n",
    "temp = ops.run(\"convert.float\", original)\n",
    "temp2 = ops.run(\"eval\", \"image / 32\", [\"image\": temp])\n",
    "floorOp = ops.op(\"floor\", temp2.firstElement(), temp2.firstElement())\n",
    "floatImage = ops.run(\"create.img\", temp)\n",
    "ops.run(\"map\", floatImage, temp2, floorOp)\n",
    "temp3 = ops.run(\"eval\", \"image * 32\", [\"image\": floatImage])\n",
    "\n",
    "result2bit = ops.run(\"convert.uint8\", temp3)\n"
   ]
  },
  {
   "cell_type": "code",
   "execution_count": 3,
   "metadata": {
    "slideshow": {
     "slide_type": "skip"
    }
   },
   "outputs": [
    {
     "data": {
      "text/html": [
       "<style>table.converted {color: #333; font-family: Helvetica, Arial, sans-serif; border-collapse: collapse; border-spacing: 0;}table.converted td, table.converted th {border: 1px solid #C9C7C7;}table.converted th, table.converted td.rowLabel {background: #626262; color: #FFFFFF; font-weight: bold; text-align: left;}table.converted td {text-align: left;}table.converted tr:nth-child(even) {background: #F3F3F3;}table.converted tr:nth-child(odd) {background: #FFFFFF;}table.converted tbody tr:hover {background: #BDF4B5;}table.converted td.rowLabel, table.converted th.rowLabel {display: none;}</style><table class =\"converted\"><thead><tr><th>8 bit</th><th>2 bit</th></tr></thead><tbody><tr><td><img src=\"data:image/png;base64, iVBORw0KGgoAAAANSUhEUgAAAIAAAACACAYAAADDPmHLAAA/J0lEQVR42p2dUxAsS/Z3e2zbtm3btm3btm3btm3bRszbRMx7/b9VcVfHOvvWOXfme6jo7uqqrKzc+m1k5u54xzvecvzjH3854QlPuJzoRCdaTn7yky8nPvGJF89z7gQnOMFyrGMdaznSkY60HPe4x12Ofexjr7+Pecxjrge/uZ6D/zl3tKMdbTnGMY6x/qZtDtrh93GOc5z1GtrgGSc5yUnW557iFKdYn805r+Pgu8+lnZOd7GTLKU95yuXUpz71ei/P9Zlcz2/On/a0p11Od7rTrdfzHpzjO9dwrc/nmf530pOedH0W/x/5yEde34F+cw195Dra4vC5Rz3qUdfrfH8++Z+2vIY2TnOa06zP3u1263GUoxxlvY/nMLa0w3mezX1cyzmusw3a55N+c69teR+ftHX0ox99/7sHbfG8/TkGlYf4UInNA3kYg3KqU51qJQ4vz3cGn8HgWjphByU+HZdQ3McnAyiT8UwOzkl0zvNS3Mtv7+E62uQ/2+M7feQ/Gch+y0gMNkeZimsgigzJd9qUqPzmHtqQyHz3XWlfJpNpuIb35j/Hgf/pG2Mjk3G/7yJD0QfvkwYQh3My/CQi90tcCD0JfEQHbR9wjgdKDCSKTtsZHqS02xGu53/P2xk1gdK6pRG4j5fnxRk8DqWNtvzNNXznOrWAhIYBHXQO+g3hHFCZQSJwDfdy0B8YQulV86jxuN771G5qIJmWfvZctZT/2zfuVwvK3Iwf5x0fGUVmUTPalgLGfXwejOj83+Ng19D+Af8zGEqbateOQFwOO+DD+a2aU3r9zuCrvtqWB/9zKPG0T5u8qPdLSH5XPUMsJFS1r3mxD0qZkkTbnFMrwCgcmiDa8N1lZvph30sEmdD/5jUSjcN3mMTl0FzIKB0nGZZP+lJB5B6FSCJDD2jRaxxvzYkH16q9DvhPFceDOeFAqtZsXGlTvXOPpsE2VM9yt8RWSrlGtUebmg1tWvGCKppnoJmw5xyqZwet2mZKpv3EZIkD+F+tpVZRI0hkGbpjUS1iP72X5ykkNWHcq0RLYJ9T3MRvNS+/+V5h8/7iDJmE9+jhORll4g36w/c9A/AgB4uGvbCcyaeawoPr58s4WBJF2ycAUz3L+WoRwRffadeB1hQo/VyjevdlxAEyjYxYojuoDIqDJx7wGvtRQMyzuUaNw1j46ZgoFA64WkesIfPYP8dA4vuuEoZrVNOCOcdUBpcZJpGnxMuUmu0tULgTWEhw/xAXaFvtqLa5CHQyTb2EqbZ4AVU5nzIJ7UI4B0c7PNVrz9NW0T3toS0EqpyfzOT1agYJwnl+V3t5XbUH/2mLte9qHJ7FefqmGdhqp9rK/inRNWNiMDUk9/wvwI9+ekADze0Bhy/Gy3gBnxJbyVQb9Hob57uSWGBT3CADMCi6cHI77SoddRcltrbRgXBwlUC1y2TYmh+YQvygNM5rua73qZF8nhhFFaqL6D0QWJU9GWnio0q0guO7ihsUzAoE47nFBEp5pV8XUgBZT2N/r2qKQxQuIQt2lGhVv9JoB1VncqqgBWZSIgoadUdUy6rBErIYAgKe/vSn37uVum+CV3FF+6ppE+XL2ALbonzOywzeY7xA18z/lSa9Ek2TglJz6Jjo7pXoElWCC/w8ZALfjfunR1Lt2HYdf5mFz01zIShSin0JO+F/SrzXlWuLdP3Ow7nOQWJA1AAykYPTwI/gsC5lpUy7rY31fuMV5z73uZcznOEMexDG8zULHFxbb6CaTuJPnKO2aVBMZlNDFCQWGxi8UptoKmVava0tqRZr1HY3zqB5ralUoPUEpgd3OBA4QQ0vUYQpISpVEk+ilQG0cVNyDBo5EKp8Cao6VuodVDWRL2hf24fiAwGfKk9Pw74yELp/aBOYg2ghNtr77Zf2uNLlAMtcjTvIwP7vp3EKmUSGUHP6jjKVku87ynCNufScWmBqkDLAQbGCg24kbKL0Rq3ojNI5TYPnHBAxgBHGaTp0t0TZMp82XTNQO2w7gj5sOgQUPG6FWRtKliC6sLqXtEPbmqQKQ8dBhtANtO8VgsYB+B+8Q/t6GILQxi6qXepxVNX7XN9Jk+mhFhELNCZwyKihL+EAaw9FtVXZNRczauXgyrV1Dxv563kHpM9obkL0LGLvAQEhHuoeCeY319O3mgQ9Agl+xjOecQ8GizHEJA0uqQ3ryvnuSrZxAN6rwtJQOM/2GWoRCS6z+CwxjTZfLWzbMqOaTnqo1jWhNdEzKCSjr/eo0swJNAwqgRt/rkosd9ZWVoXL4SZwjMgpAarb+tvVPP4nIyiZmoNqEts0FwCDyABKIr/pp+rSELSg0+toQ0JUzVaNS2yFpRHVBqMaFdR9bfBLiWd81cISlXMG4Zq30GRo5tQAJuHEYVX/9cj2yaJyzMzqea6Ic6psmUGiNUPXgTCxosrewgLG5av6a+cLcgRAInsTSzKiBBW/VJU3wqnZkZgynZ6KeYr2tdFOCes7TmI32KNmLCissDQcbjBIoZTxqnV066TRDB8brzCrqYk087hqhmYBHcjapAZSHKBiggY0lGhtlVIjgyk5ZbAyD/8bMCmjlQGMCBZ90x8kF1PQAMzWc2TcRij7LjJUiSNzaWamG1wT4P81n8UEjV3U1Kk97Ju4oi407RrhFI85tsYI1BpGCmUAQeXMJezsjKDCQasGkHimZxvpqwdBO80aOii6MqpcXcfGEXymXoGMIMFrCrTpjQVIoNp87b6Hkb+21/SwzCl+KDNqYmhDxtO0GX7mGW1PYdIel9gS1PC1tQtTI9Ge//FsYiE+p1FXVb3SrQaYySDdxz0orHthI2oFuayZJwssVM1yp7awLkgBozECtYJcWztWF6x2vxpBhutzq4EYLLUG99BfzlmcUUxiuwVuehYWf9gXNaJMVxe2bXBvC2rUXr4boNWiE6Xd6wzGCX6nxpDJHIeq+C2Uz/+aeGncDO96XTNqqu4mWWZOX9sjR4l2HTBBXm1cYwYz+lb3zJoE1VwBanPklSYJoQlQm3GNBR66YUo413CuHkQlfBLZ//p/8yMylFpDwZnaTYIrDJo8D7VHcVA9q4NVIjX653jVQ1DjChSbI9gVrQtsmgNXZQluKrlWDKliTQ23+kfJarpXju7gVvUblZNpJtKv+va3GcDaVvtWz6Np5noKmo5qBvsztZDEkbiCM8ehIeGaFhlfqeR8K6Z8zwbFmmBrgEkGa+DMvggIS+g9wQ/TDGqDXTNNSr3cpV+qdFtRI3DS7jdEal66uX6RbV+wHN5ClDKLL8QzdM9mKLgROc5DUAdVppiM4m8HTs3lvd7fuINMoFCIM7aYsP769Jj8lAHEA4K+jk1D5Q2F12R5rUyhSRXoGRHV79cseOwmCq/kFaS1Nq+Zq6ZojaI1KNJAU8OcM8Wr1lHCmrWrJpmmiXNKM8eZznSmvR/f2IASqpbSvMxys4K/Kf1KqVFIDrWGILTJNb0qJdwxaUWS41NmnlVWaiUjmMZDyihWG7U6qPmU1hAcUDAyOUyOVW0p1c0ra3tMHonMDcD4Xc2hX8t9da+UGqt9eq+SVxVZNWn/+C4DqPInEtdL4BlqCiVdwtab8HktZCljNk1eV5T3bTJIbNKIJSjeRFXNWttpRZKE75hu5U3MDTQyW9PeJJAp5RU4yrHeOP38qhbLqFrtI2KtHZ2ZugZBBHkSGcIxKAwO34sPpgR6zlI0/WuJRvsWjSptSo81CA4qz9JDcGAlWKuEbEOGKYM0lFu0bpha0yEDcBCKtlK5jCV4U6In8Ct+qUZWQ4svmp1tnmBGBDUFu5YrGwQpYLMDdkpJk+tmWZJtqYroGNdD5DOf+cx7CS0arltS76DxBq/TbgoU1QCc43rd1OKGqvVKVPMKZgUlXEGqUsw76JPzHXMDUb1HLcD/HBKrwLdpYt3KKdXNfraiWAE1D2CyrTUGxQGq+xkS1u1eI4M+UAnnxXRl7KRouSp5RuiaipV5ZJpGxFRTxRvFIVPNqgVqQyVWgzz0qVk7XcAZmoZgYoDiC9Wx2kCfm+sZE3FFGUVb7LO8Dim34snYgPEBzZAa1PC4fdQE63JOENtCnWriltK1HkOtofmU+NJtnwuYyR/tvqXcAg0R/qwNKIerMeoiNU3cItJmIBsYaelXPQ3VuVLfoyBK0GcmzkEqoOvEED0ItQGEP8tZzrKc9axn3attAafPVjsKAMVA2nulW9XfsjTHWaDoO7ZthUh1LgDVBRWkN31fkK4nJtMY1FNzrFHbiRbNFM08dCtMlOImi3yQ0qovaqygBRYtlZqYom7pzDFUQo1NSPTm5vVCWiRq7n+GX/UM9CAaH4BoEE/3k754j+9ZEGuSa7qSmo5ZiCrhCuZkKrGV11oWp7ZrLmAm7DSZErnRWRNM+3RwOUSbrArVPWm51owcNvOlyTCiqLZQpdXdrCqbSZFiDs8LGh3Y6Tp5b6Wh/rqq2WfRDoSRwAI3waBguGiea7T/Mk5dUBmgLqTXOL3MfqreWw3lRBmu4x76a/0Cz/MZmpAW5IiRtkK+rSKamn6nKrFooMGf1peZny4TNNMmkUyfdgJoiyT1EDobpv6yKnBWKjmY9QoanWuVUBNILfxoytk8AcDUYlPfoWZCD0CvQUbSztdl1YzQXgGjiRzVugw1I6hOrPE9mvhpxVSLZxq5deybqZQ+LXxpPceutWwyQKc2dfZJJ4HOgJAqygKGhoDrjzYoJHM0rt8kyAwbd7JppaguooM9J5PISBBFDcK12PnaeG045sBDwClRzna2sy1nP/vZV+ZR+gWGtMd5mUQ80GKYun8yPdeBN3yOXkUjpwXWarKaTL043XoZo3itRb4rBqgtb13bVON+12bJhbocnQQpwapGBZGtB5Ar+4LaQIlfQlrhW5+9c/62fnvOQVZD6JpCsEYPuQYCnuMc51gJ7X+tKoKwMg6H7iCE5reSK5aoJpCZtO8yMtf0WY5ZI51qqRkprFZoKL/zNloBJT3XQJAzXDypn6jv2AYMIOjGyQCiSs474AUvui9qhzJKZ8yIB5prL8Lu9O2qawfFgfJ6QZPIXVVvMEliSzQJqeSKCWa+38PII9eaF5D4Aj6DQLSNhHPwXZfR/vlOBtNU+U1o8bvXFqP0t9qg5lqNO2ci7TphEeLq/zeQUHvSDGEjZT7Ywe/U7oK/TsJoGlX/uoh+vmRVvfZTX1ztYJpVdK7ddmC12d5fIgi81BSaF85DtHOe85yHC+3WBBgzkAm4DoIzV4F7aRvToZmQGfQsaKc1lcYCGv+XGZuUq6C1+lrAp1afM63WCcGd9mwGUKlWZdREiAHqa3aC4wyu1L47/25G4MwDKGENvUoYCVhiSqCWhclQqlvblhmUQgigxEtM1XOfBdEwBZiEc53rXPt2ZBTD2DKAGsTzSj6fMo9YQqCoGeB8V0ARUNoubWiWGjzy/bvYRqucGqpuCf9aCi9wUAM0Y9TJCdqM+pOtHpoTHvUkZoGIRNKnr2/b6uHGzx1MB0RG6ZItunwSVyIooQZ2kEAGUSkU6PHdwA+fHBD8ghe84Hqc//znX6XYg//4pC3b4bP9ts8GmFo+ptYwQiiANf4g06iJdFObS6mn4pgVLxWHNbBUD2wnsrfEqLV+ZrY6G1hvoBWrLQdvGtSXnVO+tfP173X9HDAlTaLX/9bua5eL0AVnDm4TTpXa2mWY4rznPe9K5Ite9KLLJS5xieVSl7rUcrnLXW65/OUvv35e/OIXXy5ykYusvz13mctcZn9eJhHMKaWNFbQ/XmOQifOCS13TGcV0fA1kOSZNPDV+M6u7rd3k+z43YORPt6FRuU7SNA7QitjG+RvVsw05sGqq9l07LeBygASGncat2tUeGsgRUEnUuolbGUellYFGrUP4C1/4wivRL3vZyy5XutKVlmtc4xrLda973eX617/+cu1rX3u51rWutVznOtdZbnCDGyy3vvWtl1ve8pbLLW5xi+WmN73peo7/rnKVqyxXvOIVVya40IUutH7yLImkhpFB0Bwwny4i7y5DNA5SkyCAFXiq7fhtyr1x/xlrMWZgzGdlgk540H/sxIee55hp0C4qJR4QZHTZliZFlNgCKG1oV+ywH7x0s4niBlW1Es/9xg1cg0C1r+qHMEgrUnuxi11sufSlL70S7qpXvepK+Gte85rLjW50o+VWt7rVcrvb3W657W1vu37e8573XB74wAcuD3rQg5YHPOABy/3ud7/lPve5z3Kve91rufOd77zc5ja3WZniete73nrQHtrhPOc5z8poHrqNYhHeSwao56HaNmRdrKE2UcN0OlmjpI3BaCqMAxi23ymZfDbYo6Q3rTuXTGlKWPTd0HFLoThvgkTJ9EXVBnXhivp12SBmB0sfXg1g4kY//gIXuMByyUteclXXSDeqGwIj0Ug4hL7ZzW62EhtC3/72t18JCUEhLESG2A996EOXxz72sctTnvKU9fNRj3rU8uhHP3r95Hj4wx++Xnfve997udvd7rbc9a53XdvkWTAYGgFPgP7WBMm8zT1oGib2UQMUL4l9Go2shm1xT+nV0vedcXHXCLJgoPPNXB+Q62blSU3DzJLJiTIUne8aeqaUNRe8aEFa3SoHp6FZgR73QXTVOZKNDUctI403vvGNV3XNcac73Wm5y13uskr0fe973+UhD3nISkAI+ZjHPGYl9iMe8YiVwBD7cY973PKkJz1pJf5Tn/rU5fGPf/z+/BOe8IT1Pz6592EPe9hy//vff9UMPAcGow+YFzRB+6sp0N5Xw/Heaq1iCd69bqPeju3w2fUOO4tIWjYNv+YCKrUtyuwCBrM2cC5IaFSv6/TIDD6sLqD+fUO9crcS3Uiav8UCvKwDBBJHpaPGkWqIjPTd/e53XwkJ0Z797GevnxDtOc95zvL0pz/9AGl+5CMfuT8g5pOf/OT18Ptzn/vc5eUvf/nyyle+cnnhC1+4PO95z1ue+cxnru084xnPWJ71rGet7XId//MsGIs+gBnoFwyJ+aHPqnI0Fv0vE/Ce/G7xjB6AGcfWQDQm4joMMkELUjunsQW8u0pyy4gaFm4wx/86QaMMZGJIICcSNT+vipJLW4BZ8CY20KXTrYJBUKegddQ7KhbgdsMb3nC5wx3usEo3EgjxIfyrXvWq5fWvf/36+dKXvnQl5Ete8pI9EWEEDomOREPU5z//+csLXvCC5cUvfvFK+Ne97nXLa17zmvU3/0F0ruOgHX7zCQM87WlPW5mJfmBWAIpXuMIVVs2EloLwRiFhCH/LAOYaeF+BsubAgFkzmIakvV5s5VS2AkrNrkK+a3LAGLIxgPr1JlS6pk2XkjWA1BXFTFvKFPq82h87WtfOgEaRc1Un3xlE7Do2lsEFfCFtSB1Si2RC7De/+c3LBz7wgeVjH/vY8sEPfnB573vfu7zxjW9ciSlDvOhFL1oJ7QFBIfIb3vCG5U1vetPaBp8Qn+v5j+sguAeSD0PBGDAA2gBmwiTc4x73WL0GtMDVrna1lXGJIcjU0+YzHrw3TFAiN+rYwJlCwf3WHpRZBIlzAq6Cuev8PhM2M1zbWT5G3ooFNAECxC78UBPQev1m0Ar+dAsL8HSlOI/KZBCvfvWrr6oe4IW0P/GJT1yJB6GQ+Le97W3L+9///uWTn/zk8qlPfWr9hBEgqEzAta9+9atXZuCTg3vf/e53r9d+4hOfWBnn7W9/+6oFILQMw3dVPhqF/2kHBuEa/qNPeA1oJd1HgCigkPfTcymDQ0QDSQa6GgH16Fi2PM34QaufZ4xAj2EtCZOAhmy7ft9crcPp34YUTQA1gme+u6nYzslrdW3DwR6ViKp9pAZUj63HXWMwccuQQAgHQSHeW9/61uUtb3nLSjQICRN86EMfWj7ykY8sH/3oR1fG4BoOvnPdu971ruU973nPeu0XvvCF5Vvf+tbygx/8YPnOd76zfPGLX1w+/OEPr1rgZS972d6EQGQOzsFIPB/GEitwHhMEzgAYAjrxDvBACCBhxgS2Al4lWnfQMVdgWjvg+LYUH1o1tW3kda5Q0oqrXW18V7uYs3gEbV2kQfTeap1GAK3Ta3CpRR1d1HGmTRu+BTwBorD1uG345RIfiX7f+963EhvCwwQcqHD+g8AQFyaAATADmAWI+vGPf3z5zGc+sxL5q1/96vL1r399+fnPf7785je/WX77298uP/vZz5ZvfvOby6c//en1GZoCCYxJeMUrXrHXOhz854F2wBSgoXATwQSAVBgYPIA2w9bD3JajaRZkAOsERf5mB5sPMSCmN9AZVJ3WbnleF8fedXGIuepm884tv2qCwYd0goXRu5Y7e71Srz/fMK2RM6N++PIQ3ygd6vOOd7zj6p9j5yEyBIU4SDSaoLb7He94x/o/ahxiYwo++9nPrlL+5S9/eS/pEPrXv/718vvf/37561//uvzjH/9Y/va3v63nvve97+21AJqCZ6gFOJR4mOC1r33t+r8Mgqmgn7iUMCxup3gA8IprCPH51MXVvTVJ1FlIalbNp8Kk2dBldFxNUXctojn9ftdFDgCCEqgze1rl2yVQ5+SFTuLspI4u+NwMV2PxJllMyOjeGZdHYrCdgCp8bgYZwivVSB+Djlp/5zvfuUo5/5Xwn//855dvfOMby7e//e3l+9///vKTn/xklfS//OUvK9H/9a9/Lf/+97+X//znP+snzABzoBloA0aC6AJBQB9aQAbADPAdrcB1kwHAKzIA7yQD8K6uDaBbp9ruqiqmucVFTjO32hm6QUvzBE5V6xyEOft410rUrp7R2bWNPsmJjUI1eteJEbVXMoLca5rVzBo2kQEhfIrUGzolsEMw5eY3v/nq5mFTQdxIOjYbAnOooiE8hIL4gDgIj7Sj4lHnP/zhD5cf//jHy09/+tPll7/85aru//jHPy5//vOfV6mH6H//+9+Xf/7zn+t3/kdTwAA8Dy2AdkHSITQHkg/x6RO/AYN6GeAAPBPMAF4KWID3IM8gFtDT0cV1PQOlXTM56wwF0XX3LCppYUrXYpbGauRdJ1NMF6/Lths56lp9Lcmu2jfK1fRmc+1lAjWAvi9SDiPwncFA8kH8SA5omkgcbhaDXduuGeDTcxANqf/KV76ySrHSD7hDA/zoRz9aJfxXv/rV8rvf/W7505/+tJoBGeIPf/jD8otf/GK9D2aCATAF4A2YDSZA8sUbaB+BJX3hPJoAJiC+APPiroJhSCBhBmQAC0QQBj2Apsv1hLpCStdSUDN3MohH50G21nDFAJ1o2eqgAjeDPF0YovPVtftqC6XbF5PDRbqtoGkunsPqGRjgfOc73+rv4+tj+5EeXCsDPAw6xEDqIQ6qXwaAYBAf6Yf4EF7ie3z3u99dGUGNADNgFiA6TIH0c477aAtNAx7ApcTswAQQWQYAhNIP+sD/MAEMAhgEsBIhlAHIMmLeIDjvrTa0vkDJbxVycUGPWUFVl69RQejZmUb7ZFBzxnNh49r6rubRhSW6nl9te/14tYFhzhZe9Dtqn4Eg2EOkj2APPjTJGXxqwrn4+9hXbD6Dj1pm4DlU/6B7JB+1D5DzgNAcEBpzAANwAAa9hvP8z3UwB4yCCYH4aIMvfelLa5yA5xpT4MAUADw50AKco4/EBAw/AwTJE2gC0HatOJIZTB03yaWdL5DW+9LcdpZ1V0M1ftNM78oAjfi5Tl6XU9mScn1OCz+6PHvTvKp8O8g5CazaNy9eFQjxwQKkVHGbjPKZpIEJGEwYARWL5In28feRVJA+RBPwcUBYVD3ADwlH0mUIzAGH2gFGgPDYfxiJ9nAHP/e5z62mBVOAxtE11O4bUAIM0jeIT2gYE4D2IjoIGCR6iVsL0GU8GBe0n5lMy85NZ0NYiLdVxtZg2pz4qgZxOVzXRVRb7/T/5RSRf5c10abU/5RJlHr9VtWP3Kdm0DRIeKW+2oBPACDAD5cPKQEw4UNDfLN1xNlNySJZuGJIHKpXBgD8Iamo/6p8VLoaAOnm4JwHGuNrX/vaei9toE0Ef9h3PpFw1DvSj9QbB+A3Em+MoPkGGICDfvM+pJ1hcN618QA1gGOkSXCyKQygSWgOoJJvuNi6CT2CFu6agNoVzVuV2ghgZ+0aTWqxpuVNrs5lAMi0pvnuVuPYcc2BL8/BgACOAH5ICW4f0i/B+Q4T4FZxcA4pgxDYYbQAGAAVLQiEmAZ6wAT85uA70g3BUe0cXI/50L2kTdqGqLh/ho/9zYHkowmME3ANTEmkELwCk2L/YQTeAzMAA+DdAHqReIUAgjcCyrlORZsYSuLPymY1hfdJS9P2gvSdU4TmFO2uyd/qUmIFNNiQbSNXcqIuTdOdcqsegKVREB7JJ9QL6gf4gZIZJKJnSj0H38EChFdRpTAEKhaCQCgDQzACahowCEFR3RAX5tBV5JPfXGeoGMbhHB4GxIe4+vRItAkhYgAQF4+EZ2OGuActgDYwecR1aAGzhvS3JoB3ttKXQ3VvzETtqirvxNFWVjXwNmsNNNtODev8g13nqqO6BRz68boXnQpdU2DtuxJsGxBUlWadPS+lnbPzRvwAQxwwAKoRtw/bDwNAbGwnbhQDiArFI/B/mAJfG0ZA6iAQRIMAqmTVMrYZ6cRfN4EDsSAch+odggIwZ+iX6w31qnXwRCA+jMd9mgbugWkgviln+knfSV/DAHgC7nFgRK9FME6EaYlbtagZRInv8rfWTngYLu5mmWskcM6PnxMvLe7Qn29N+1ZKkut1Aw3tNn3Jy5oD5xp+4+4B/AwEof6RfiQFYmsCAFGofYiOaeBAncIAVu7ABB7N1yutRvLKJDBDwZtMItFhKlw5tIDBHw5QPswC8dU8fJeJ+J92TBHTFxiAflOpBM6xRsDJpq1/UIWrjQ3tFmPV9rtbqvEVx7+TZbsAB8euK2y3qLKHNt1gjupbzmv4uCVKrcQ10NPIH1qC4kwOvnMO+4/6x1WC2JRrYechPrbUQkykn4FEO8AAlnD5CWDkYMAt54IASKT5e3P4ag2IbY4fhuE6K3345JzaBE0AgZF4NAAMwIFnIANgCmAU2qdNmJJAFn3nHXEDeXcEQGIxNnoAaoWZUW1ZfafD+bsZRc9LVxnKyOBOG+9kySZzumpm18LThjdMOdO5nW9nVM8QL0yg5AOCOPiOBqByhsAPxIX4EFMiIskQH83AJ9IPk6AhMBFczwFDeIAbbAMmUjtYxSMzIKUQCkaB0SzzKqN4HcxiGtiMoyllA0KAQjUA99EufaA/RDSNBOIGQvR6RgV3SnYXt3IdAudKmj3Vzs8MbaeTteoYuu+sGNFmuHZdK0+68HJLlKar0fPN8PFiBjp0eTQB+r8wAIAIZIzvD5H1+Rk4JRiikw3kAAzqFTz4wQ/emweu4X4OvmNG+F+sACMYR5DQloDBGBKe32b9rAHgP0vFNAMQGyZoEEgMgTmhbRlAD4CUMObO0C+Cwlh04mvLvRxDxsxScs3zDLbNXEEriZy0azBo1/lkrmIhGBEM1u2YCyAUE8AMZvqc5SLC5XsDQJ2JyzmIjwtIiJTIH6odFY7K5NC+6/5JUIs6ZQK1A0ALLaKp4Dfnrfqlbev/ZACkG43QekAPs39qDZlDMIjKh/iNE8AAaABzATyTuAbVwmg6pL8RPwjccLlj6BwCq4Q766kFox37Tktr9VXL+lcQOFfR7kSETsXufL2umqXLJ4gp8Xkh49rOZGnkzygXGoDBoNSLEm4GCemWAQrwlHpUPYTnGm0/v2UQNIRYgVp91K75BLQEzALzgMyReiUeZtDucw7iieLpQzUGGgHcAHiE4GABGMCMIYwBk3A/7wDjkQcAAJIORuvNiJ+TR1ovqKadybTuiFIV3zLyueWOi3PoKew6C6X15IIE8wBcLDBpSbLlzXJya94tULBtVZmqH5sPAlb6QcT4x5ROiew5ILD2GwaAeDCAIA8iWq+Pukd7yAAQ3gkf1BC2cthn0K5Et9Sbg/O0zTUwF4zndRaRoh1kALwAooYmggCB/E9b9A8G4N2IcJLnABNxwAjGTFxroEvSdY6h3lono7byl7Gt+9hVSOeuZ2soWBWhpLeYsHP0uiLoXDShGzLIhUb4zOt3KpRz5jmMe8MMaAHy/hAMAgHskFIGjgE0osZ3JF6MoJmQYSAWTIDqx5ugPQ6IjxZg5o+aQHOi5oDITgGDyXh2tU1BoYWhBojwDIgBGDswasi1tAHxKQbB/qMBlHYBs1hLkN1iUc2CASDDuwJw0X7vaU5GjdBV4FcGmOvxzLn1fUgBhpJufbs2yk+JbzxAteb/gkKYAC2AO0RQBADINC1sufYaRoDYqGElnYPvSChMYV0/msIKHBgAgtMeuAItwHe1gLOD1BpOA5MpeC7P5zAOIT4wLiAWkPiif5NDMAJmA8aCGQG5RDrRetpzQ+RdT6BL1HRWswGhObdSWhW31Tx0TeLuqr6z2MNypDbYtfS7kEMnJ2r3VesCPVfCaM079+vndnYuxHc6dhmAgUfyBG3G0pV8CK/Prv8u2mbAYQAkH9WPaUG7yABoASOJmAuIDgPQPsTXzJh48nnVAOIAvAEAH2rfaiHcRBgDRgE7GP7F98fcieabIBMsmxvxXKeOdem7gkVNhTSbNQFdjLqLS+26WJGqYh6dptU0b6dwCwY7obGraWizrPtTa2ADcYdgAAYHhAyRIIxqF4Ij7RDAlLAmQXtsZI/fMArXgQFkAIhPRTGE54A5+B/JN44go/GJJnDOINoG7SKjGUMAD0BgGAB7b1Uyv/mP6yA+zMQ74eFo+5V6ia056MRXbXnTugL1CqYMUsLPfQm7N0I3ndi1sKAM0JJtXb2ui1Ob33r2poD1Uav2Wx0Eh6MKjQbynQAJxDIQpK13di4Esh4AIiCFSJtzAyAIA889SLZTtyEAn0g9qt8wszjDYJHuWs/pKRgn8IDIzg3g+VYFcx3MavoaL4TgFqFf3hOz1zUKOPTtu/2NrrXja82/gjVjMOKA1nh2vcQuRStT7FpSZASpwE8GkMC1LTJGM4NdU891+MxvOxumRaFGA12ChQQJQAnbLRATCyD1EB7JRxohtmFZVTDSBwEgpJk3wJcHv5F6pJI2dTGNAILY+W7gyRwCal+VrvrnuwkncwedEEL/0TJoIGw/bi7vKVLX3is41lMoOF2rUI2pS90JpcZntPWdczG3w6mWWCuCyjEiw65H501dbKnLrmn7dUksBWtpmITvsq1OgQYDgP75RBVaC4C0IsGGdCUWUg8xJDxSB/gyEIMEYg5aji3A04VE6pFOJBsiG/wR4PnpZNJmErXthoP5n/+cNcxh0sopYWg1AK6Yp3kS3equjGLMpbOgWxfQpWGK2boBVbV3VxRren8tCu3+PxBHjux6Nj6w9WmN4CHFdJD7lfQWe1rPZjyhhaO4f7RhPYClYEiNiZ5qAIgDAVD3AK5O8YIBYAiTOjCMGkRAxyGgU4XTnkT2gNjO9qFNmc26/6aaYQaknrgB7fIsTBjER/Wj1SA848j7GjOpmtfGt5JXAbNIRAlvWF4TbM6gxaL+L9DHBZw7tuycwm1GsDWAXRxZgurqlQlM5DTmzwtzCPp8UScu2JaRLl1EU8KYAey1aFyfvO6XUuj0bTSBc/a8zmieRRku9mBmUBTvxA6/W+nLYVKH5zUMbKoYRqJNGAvtgmsJ8V0cgvdR/deUWmthuZ1SXCk3qsr32nKlWfzmQpvGCrrlTHd9syrIfRd2VgBxo4sWiUL1Rbss6lzq1PIio36GgkW5FoJ0Gxeuk1msBrYsmkFyLgCDCGBDdUN87KqRONW2BHRmL4SqPYZoqmfuMV5gRrAzfJ3UoYRr72dGUHNhtQ9MZaQQXx/thdoH8de8+c6AQNcF7uwf7XOndhWcd/OHzsCSkVyptUU8mgTRv8xgFfhObtCNKwN0Hd25lKmuhulhI1Nycj2GrcUfmuiwTsCwsKaA+fQu64JNNYEjAbXfErCVPqpqbTSMAsHABqrqpn7NBZj4oV3aFxiK/GUmYw5KPW4rIJM4PzOATfag0Xg3o6Ddh6DZ1E4P754Ec4fSTgbp/kkSuBtmdRcUhdDcj1vL7LoMm9UjnbrdaV+dDNqVPFvv14WPGxcQuRZPaEKcIKlHYHUQmsD0MGhat5BBlwlQ76pkzYHl2UbinMzpBA0J28ohkX6XejETKMG5x4ygUg9j4ubhZhJnwNUjpkGwx6BXF6/shlUG1Zpd7RyLGbnTNHRJ+7nhZif2zsU0lfxuOrnTFlfaRaT18e1w9wboil2+gCClS692qneXUbcG3nCwUUF+CxAJDhFAaX7AtXwEcg0EtdZPTQBjiAu4XiZQE6hJZAAnndAGzKP/r/kgRoCHIuFvcpObrFIPs0J4GLnekK6aybQuftGUbber6+peVv/UTHQybheCkPCdOtZNNrscwAoCVb9VUSLKrepTZwg3MlhftOHkJiF0a2aEUPuvu+gaOlYMoxGYGs4MIVLFBHYYeF1EM4WqdOv/xAkcnIPYVhXp67s+kFrAwJKHC0qZybPegBgFwSrVPSgfqaevqP3O91MTiqnm6p5dHq8VP63mUcK7mGaFtAJne2reVhR1PydLAHZdbNFOubJH1/yVO91pY67mVZ/WGICui/WGELYFphK/a/saJKE9PQwXdWSQ0Qa4VlQNgw0Aia7nx2GSSLTvMm6YDojoQlAwDefNIHpYvUsbaBqDOTAeuXzMER7Kla985TV3QdwCvEI/XZvQOX7mRmRw3qdhdJG8OKBZvnpgrbbqbmZzTeQWiQgwrScUr3XP43Wx6K5aaaSps3vaqS5g4IoWaoomImSAAkN+u1YeA+LavLqKehumjo0xQHjXBuA34ApwSE6d5AqJnVb9lAHMEkJozkPQZhNlCrAFpsVUsMkgl3YhKEWOAuZDE7FMDQiffuHewaB1g3WZDfMa+HHJeReA6sYWBX3O3zPO34CPlTxGWUsH/+v+C0zk7RL6nd291gTSCNzrUuje2J23BIktQujMoK5KpY0T8E0ToFQ4H84qYUGgoMlFIlzaFdvKJ4yAJkACIQa5dQjj0jGWgnGgGZxTCJFbSYQdh+gu3WJWkPtgKtqDyVDxPAuCw4DWMQhUrXO0z/VuGq61BkJJ1l7rWdVczv2OqzW71Y3Bt+6h0I0qu16wBO86kOsaQUq0+9l1MQilu0GH7r7ZRIOMUjfQgIfr+kroFoeKQYwImhmrCmXgRNSu8wtBQNzYX2IGLv2KbeZAO8AQ5v3RErhpFoSAI1TrmBN8dw6+A+qw74C6LvXK82FI+urv7hFUN7p5kQpKt5Sbs7AY8+5gPnc8oQ0IJwZriZcLQuka1l3s/gHNBq4MoIvhhb5Et36Ro1ymRFzgfDM64IYNzR/MuD8SrrRsbaowid3Ckk4gFVxpSmAI7DAHXgNE47MrfyPJfEeaYRh+ozkwJ1yHWnemjtE7VbtVS3zCgGpM36OzeWqzu/xd4/Rz6Zz+1hR0rwUJJi5rUsf/GhXs/e7+5s7tc8u+neVBLSpsYqJbtqjSu1K17oUrejf7ZC7B9f0glmVgXTxCaW/peFfYlgAcXSNPTDLX/XeamRNPsNWaEIjn8vBoEQjtfxxV4Z2ha6TS2r25WYTEr4vXcuyqck3olPQiduP63W4eF66rgHa2T9dlEuh15Rf3GnafB/cU2pkEUurrM85t1V3MuUWHzV5x3th/9/YV+DkJVJ8fYjjwqH8BYTGCRKiNrW/dgFKZzDWHjCzatkUY9qErkth3tZMEldDdGazuawnudS3sLCM4Lk3BN0tardBJnWICnut1XQrGZXwVSncStdpLJnCfAFeG3alKBSZF9i049EUcxL5gI1lWttRP7Z4ASn6nhasVPOc0srlaqJpESey1MpeTVNUcMkOznL6zgLOZS8FrTZcMwnVd68D36EYWtb1dorWTarvXT22zm3Y3xK5JcBx1pQ0WqW1hAFYE1yy4pnO3pnVbIBljzQW0ph+u2kLu3SXTQIWdahy726TONe1a0Wr7ncuuBBk0Ueq6VCzXFh/UdHhUgrtUTStoLE/vf17fbVpnraMTN5rsajFG8x0twmilte7aXDbf2L3+uZpBG94dxAwDu3KYS8aJxbrau1E/ff/uAreagHmDy71ygzlpDgMXnUreMHA3dBQI0rESRobqFCZ9/66a7QAXJ+hjN73s1HKB5dyxqwtOdynWxj4MOnUzSDXCLNxQA6lhvF+hKNN7fwH1LMxoqXejdGbturCD8ze756IMPbey7/K+DSlzr0v8u1Psrjtz893t5EWdNiq3Fbg0sSNnum2My5AorQ6WCNoZQ93Lb2YTnVXcNQZsy+rZxg8aX5+bNRrpbIi6LpP/6Zd3y9f62d0arszfdmYxjW1J0BLJPjDWgDMlnWtF/dr5bg8PfcRmzdm4RTyqXhzgLqKryv9/ROfcGgaGAYoguyZAuVKO5b8uD1fV1bRl98LVDmubu8BBZxI1B65Z0RyoCZpRnAtO1h+vhpk++Yynq+o736Fh1lbl2obj1KinktyoqVLYLdya3+88f1fvULs23jL3QFaauwGENHAV9+7qYvTP3cK8b908qgtCuty4Pqyx4y4vVu2gP+nihFb6VIW6CIQlXw0W1VfuEietaO2iR3PfwK5tNBea7uZS1VRlIINgMkl3DlX1dx6Eqt3MnYUt7gralVWbRp9gsDGWxgG6/29X8vK/qvhutO0aj13gU5svqGwRSDfz3m8d27TjrCfrjhPd8Lj5Z4lRF01VKRPgdjVYoZTURs2tanR1OimyPnTXMbBf0wVr9WztdqdfO9CC0WqIMkF38nB3DydxaEKMiXRxJ8fU8epegFbudCdUN40W4RsA6qJetm2a151bBZrd2Z3z7t3sXtD7rWO7WrjbxFQrdJGoRpka4fLauQS8U58Ecl21StfEZ6uuuoOJW86XsA2tTls9/59T2Tp7tkEt0Xbn3ne/QvFFV+BWpTd41Py8Gq2+/Vx8U8EqqG7mVZdRhpAZ1AjFBK0E4nxt/+rzH7ZplHs9rOecIeL2cNr47gba/ecaRuxK4UWwgptWvBSANVs1N6HsVuduSd81iQU+uoydV1d73RqFOUeu+fHiH4k0l8Zp0Kkl2F05xcoowaqEM+Zuv1XnDeKUQdRG3QFUXMAz3IbPLf5A9dh1d3XrdnGNICpcenkK+859gZW2JitqS/RFfaHuJl6Oljsb4eqCxoY7fREzVfrFMoAgxpCmA9F9BooNBHytO5xbyft9a/mbqugub98dTQzE1D2UsdQ6/qdb5lh0soYCM+v2u/D2XOe/wlgzCSMgLNBgzuY28WOySI3nzjArA6im+NMAiYCo6wMISmYlancMNcPVHcPbEf3bdswdyBq0kKHm1Cb62bXvahP1HrpFbQe9pe0S0Zx8pbjT4OfOpjNTJ4ZozKIFm93qRRSvEMnMYg7VPsS0UNeAkYKItPvbSKEJOoW0C0rZhthAhnUr4H1RqBIJARwYBrYbSSvpbcQ9aOkY101TYNrSF3TzSO7nGjcz5NPdy7q/fQscPXS1tMlzyzSBpwtXWv3qbplur1rPo+Fb06q+Z904o6NKrMGuuowyVMuyW5vXSRpG5VrE2T0VCxa14XXB50xft+Tp/sFd5JsxcHKI77sz+6eKKYdYTWIDxo8bWlRqu415pap7CXFtAyOdwKC2kVDcKxZorrvqumq6280KTLV1pkt51+5r2KhlBUH80oDRDNlaSm/kUSCpqWktfoFh8YUm0r4quR3fmtspjDUFNclqU6VcfFdtbZZwN3POTR26PXyrVN1W1ghV89tdf657Dhrjpi3nDzZuLzN0XyIGgD5wDveRogxnEVUKZbKJM1ov3+hembKbJ3Ube9V7axq6GKMLaRic0qbyfvXzeRcJIGNpbrulvMJhoqabc3ZLP68roWWKEt1kjx6VxBcMNjO4qytmQ3JKdwFXBauCGq2qO+JnQVyl3NUwrZ3Trxfx6ktzH0SgSIMZQpR/GU10BlOzlBKoEy0atdPGz4ktqmk9B6+pze52LV0MW4bUzloxXQQvEdSudZ9V0xJdSe1+jDKB+GlGYast5r6P7g+oa+95k0IrA8ghEqvf7YBc1uBF3UGv4d65+4ipTQe2k0YqUQ6cO2hBaKp/reGjzIsCTEuuO6umBRdV6ZoYgamquBrJPhq3KHEcVJm/O6XKUJo3F9Ce2c6aKlF/g2jaaQnm0T3+uuV78dEMolUTSBfdRbWAmtmcwc4dw1H3/MlJN4TkpsMu2p93t3BMgedrX9ohB697BXcPPFWaqFbmQDswQ9i9ASnXpp6PkmzCrrpZdfdkgBnHqCfRWjwHqlKu/94KHZnBHbg1O9UgBYOmZvWapktY7FHGt08N+zqjumDZap5u76P2MNKnFtf86Cr6u3GBnQSWCQR/Pky15Hn3DSrxtVNynZxYUON/JY4dddq4i00TVoUBKOjsApAwARqCQTVnMP3nbmkz/1MTKd3dFEvmtLytQSuxgr52Q7AGeXTjGu3TtHSehQxYU9oiDv5vzF4NoBQrbMUKHu7+zv3QqfRxrKWx9NjpGhhRsiNKvDGAEqw7i9fVUOXoOTRbJafKOHKoMWkHy6oi1D1VuZRnu9AjFbuUj8EA2ruaKOPeDZzUW+GQcHovtaNGIgtcXV5dBtGNtADDCBz9d+NstYvMMgs4GE+vUeOY1BH8Mk7iCt+tyaLiA4N4mrp9rj+afTKATLVroaADqftV6a/P7y7hSraNyUDda0j3rmrHl29yqVkuF6pwASkOZuFQwUu5NlW/JGV0XytN9dtb7Ww/GTw1mUysamwso/mPgliJ1ZnS3VnFsWnptu0Yp3DDx2buDM3K2PUojJo6q1cNbf+dAKKZqOseW7+nn99XBvCEGqA2w8BMUaquoZLNf5oLH1zftG6lW855VHU1IeQet60JQPVT4cvMID5NLDV7pvfgYFZd2ra2tgmv5jr6vRHNondRv4eYSVfPvIDS7jjImDKjfSgYFG+oTepS25b0aHxGAeWwP7TThFA1sQK/U3IlvramMX651QYEVoaCtTOqv5oIH1aVVI4sZ8pETQIJluo+OjtpazEEl0K1X9MFqlvkPdUc3Uu5ETc9CyVy70YdJklOversZzd60quSQbl3alIJaf/rBchojr/9K8aq2lcLCB6tAqL/ajzHYMegV93bgAPR6JMSX/UiutSGFpF6nxrAdutdSHzR6ZTASkazZJoOVajErLqum1QtZFm0fS5QVTN188wWvhjdMyPHoS3vwg6NbJoQEn9oUiWCZreqW4ZUumWYYqcJvqWV+KACZsJoaoqdAyKB/NPBmkSqF1BMYAeKFXzBmgRfuLZM4qtZmszRvsoEMxzbfHhds2IAB51+NeUtONTDoc8Fhz5LqZGBqxFtp78rjYLBxgQUHvtt+92a17453tBD7WpfpVM1p3UWTRnX5LZv62EDXiThS+T6oPsQ4mGHaszO9T4lTSxRRNt0pm106nLr31od1BSuSN9B083qOjqd3OL3Tpmag9rSbhlw1kzoKjaEXqnu+Og16OrZXuv1Z1Ct2/Q6jmoZGXYKokfddZm9Y03bB5jgqhUJVTVRm+JhA2YBNRW2MZlAfOE1MkO51M5qktQqvlBBUVWrXoBMWK1hGLu1hc0F1KTVd+8EyhZVKqFiggK0uloeZWzd64JUNVHHpe/s2GmS1HaN8m3hqWpsmdZx1SuQJjtVRFH6VmNqgJoGtUcjg6pb1Va9DDtSFafk2dYEhaou17f3eqNe3edY9Fwg2rCpBFPyJKppVKVURmxfJIJ4R1VPvw3AWJXbWbj12xWCquYpyXXtWgYuXaZXY3szoNf/2r40lLF2qnFBQzvGd4/JFCLbqfIOxo0OoPZeCZvapjEJbatqj8Psm8ykuVC1VVM0d+GzK2n1xcsgHiLpekZlTiW6CZlm8ET8BV0TYBbAqYGrJVvEqcs9x7fE9xkz+ndQ+vCndk+JKVENnvgyqqjmCAygIEX9b3ZycuJWxxzsehs+s2i4g+NgFUNoXurSKllqDr0E3cPm0qtVbF8MoomRQZSoakrfQS3RPm/F6+uvS/CmeB178UG9KkGkwuMh8xbXHQ43CFLWteMPqzjpRTzYwRKpTxeDTmBbcYP0Yxt4mZqiAzXd0Bnvrl21De4XdYtqDXnOOINlVBJbFS2YVJU7WHVJxTYeBqhkgGbbfI+CavssUxvl43vNqPdzrow7sYcMqVaxr/uw7mH0mlqiOYENs7M7ALhNDMDNqri6ELX/U4olhqXOaAbul2PtpEejgw5aw9FVtV7f+LeE1zS1n9p4YwHaR02Q7+sg2f/OqmlVTaVzVu7UxS049j2U3qnx1ARqDiW2TNA6wS2cVo29xQCaHscgQnKgHVE6/e1gTDAhKj0YBtDuOyBKl1KwxTgOyFRTAr6udNFJD7pW9HUWoYoF+n5qmAaH1G4yVj2O5jAaHm88w3a8TmyimVLK+94yYyV7lnt7T0PHTvGqyj9UpFWaTm1xAAPUPsx6gC2C6LvaQb6jHivZM/HAQLRgsa6MA7TFFHJwAyiq4AZKZulTXbS+m4BSyea7RSGdZycDzBT3oRi4GkLNM6N3BaEyaoNBvtO02Xw/oJon43owbbwlmAecm+6aamRmkYqGlZ7eQ8e6aFEzhDNsWcSsWlXNTTBYYjURZVBkqr8tKWvmUqaQmZrWboyhNr5FMmoBn1FJdWxqwzvbaWvmUzWJ4+DYbeGZw0XyAqi3AkNHeChRErS+dPPS2tstkHGoo4GmI+qg16jyVcNyvW7ezN51NpJlZgJVw7vm4s2+abNlrrpaumYzbr5VhFlGltk0lzJxo3L1iAoEt/ICMkdN3paXVS/kYFK/5QEc9vtA+2uDdYtqN6pOVXnmq+XOiWz/F86cmkjbbzFJA0dG5bpiWaNy1hw0Z9DaBP8XJwhcO/umtlz13Ipp+zW9oo5bBaYCVBt/MLMpEzphRIE6IiGU6WbYWKYUb+y2Agp1L6ZqmbFk/ezDxZiPgMgyyRbom2ZgvoB2r26iz64rWeTeMGvtufa+MYFGMpvWFhOVAZT4Ri0btpXZFI5G7Wp+qw38vRXqbUXPoca7YzzNyEj+HQgmygBbxKkqNyJWe38owvd/scEB5UlBrBJwtqFUVk3XDneWs8zT5dGLhosZHJBp37ukWsPeaiCJO4NX9qN1FN5TzWj/lPQW44hBDhbn/28F7qAAcLqBfVjtyhahy70TLNbmVNK3wr51fVy9Qru6dX3L0Jq/cGEl/y/QKtM03H2oRMpMYDl4XW9vMj2/J0pvPMD7q9HUoPzf/McM5c50vQxZ03Ko+MAhjsNzyFaSx8FQQisJW0j8YJU/B1P1EqWLHDdpISbZAjJWFrsIwlYae75bgy8tzpimbeb3p7aa77JOtxr92wrOzDFrnEXGKj5oJNTYjAzQMfqfNUPThC3cMOjSzBUP2LJbE7hsBT2OyDTUXm9hDCuEpj1s7dt/8yxV7KEYVG/DaqFijBa8yKDTT5/n5jhMxpEBj8imN9x7sPf9b13CfXudLKDvKzhq/ZpMsPUyWxLRKNVWZ2SgJlNmRdJWYWcHrKHNOQBbkvDf4pQCuoLJrbRrn21AbM6b6DUmzxpBVQA7AeT/Q5VvmrEjYoT/Aw5HP2hRSl8DAAAAAElFTkSuQmCC\" /></td><td><img src=\"data:image/png;base64, iVBORw0KGgoAAAANSUhEUgAAAIAAAACACAYAAADDPmHLAAACTElEQVR42u3cO3alMBBAQZbG0lgaO7Mjn2MTmM9rCbW6gpvNJNM1sgFJy7IsXyqdfwQABIAAEAACQAAIAAEgAASAABAAAkAACAABIAAEgAAQAAJAAAgAASAABIAAEAACQAAIAAEgAASAABAA47eu60cBUHDoyTEY9tW2bZsRgWFfGfxPT1AA8OKwj8P7b5jHv3P883dKhKDG8HsHQNHBn60wADQa/ihDT7gSGPyxfd//NPkqYPjHgUcCSIAg5wrQeuiFVoFaAO4OHoAJlv6nQ28JYCAEALQGMPgTQS4Abwz/N4DI1QCAhy97eg8/ckUAIOhjTm8AE78Yyv01ryWAIm8G83/KjVwJCr4anh+AbwPJAERs3ABgQgBnu2+yAfAU8ODRL/vKAMALAEaB4E1gwC6f6E2eABQE8BYEXwMHA9ATgc/BDQG0/t0gAgwAge//Wx3larliABAE4MpARhv+wD//cwO4uwNnBAC2hXcAMNovi84FNADwdB/ekxPAkx8Py/UhKGIzZo9HwUSnhOfbCXQVgMOhhQE4FJp0Q0imb/1uCCkEwB1Bg20Jf3PwyW4LcwlEwf/1uY+GjfZdH4BETwbRA088+DluCLl7tdvZYIsMPfcdQZ/e7VfoFtA6l0S1zmXRRSG4LbwYDtfFCwABIAAEgAAQAAJAAAgAASAABIAAEAACQAB03NRhWMVPBhlWwbOBCW7YAKDnfj4DK3441MAKPwVA4DFQAAgAASAABIAAEAACQAAIAAEgAASAABAAAkAACAABIAAEgI59A/gbzNf4KaIxAAAAAElFTkSuQmCC\" /></td></tr></tbody></table>"
      ]
     },
     "execution_count": 3,
     "metadata": {},
     "output_type": "execute_result"
    }
   ],
   "source": [
    "[[\"8 bit\": original, \"2 bit\": result2bit]]"
   ]
  },
  {
   "cell_type": "code",
   "execution_count": 4,
   "metadata": {
    "slideshow": {
     "slide_type": "slide"
    }
   },
   "outputs": [
    {
     "name": "stdout",
     "output_type": "stream",
     "text": [
      "[128, 128]\n"
     ]
    }
   ],
   "source": [
    "dims = new long[original.numDimensions()]\n",
    "original.dimensions(dims)\n",
    "\n",
    "println dims"
   ]
  },
  {
   "cell_type": "code",
   "execution_count": 5,
   "metadata": {
    "slideshow": {
     "slide_type": "slide"
    }
   },
   "outputs": [
    {
     "data": {
      "text/html": [
       "Script5&#8203;$&#8203;_run&#8203;_closure1&#8203;@3a2dc3f2"
      ]
     },
     "execution_count": 5,
     "metadata": {},
     "output_type": "execute_result"
    }
   ],
   "source": [
    "#@ ImageJ ij\n",
    "\n",
    "// Define some handy shorthands!\n",
    "import net.imglib2.RandomAccessibleInterval\n",
    "tile = { images ->\n",
    "  int[] gridLayout = images[0] in List ?\n",
    "    [images[0].size, images.size] : // 2D images list\n",
    "    [images.size] // 1D images list\n",
    "  RandomAccessibleInterval[] rais = images.flatten()\n",
    "  ij.notebook().mosaic(gridLayout, rais)\n",
    "}"
   ]
  },
  {
   "cell_type": "code",
   "execution_count": 7,
   "metadata": {},
   "outputs": [
    {
     "data": {
      "image/png": "[encoded data removed]"
     },
     "execution_count": 7,
     "metadata": {},
     "output_type": "execute_result"
    }
   ],
   "source": [
    "tile([original, result2bit])"
   ]
  },
  {
   "cell_type": "code",
   "execution_count": 12,
   "metadata": {},
   "outputs": [],
   "source": [
    "#!python\n",
    "\n",
    "b = (a for a in [1,2])\n"
   ]
  },
  {
   "cell_type": "code",
   "execution_count": 13,
   "metadata": {},
   "outputs": [
    {
     "name": "stdout",
     "output_type": "stream",
     "text": [
      "<generator object at 0x5>\n"
     ]
    }
   ],
   "source": [
    "#!groovy\n",
    "\n",
    "println b"
   ]
  },
  {
   "cell_type": "code",
   "execution_count": null,
   "metadata": {},
   "outputs": [],
   "source": []
  }
 ],
 "metadata": {
  "celltoolbar": "Slideshow",
  "kernelspec": {
   "display_name": "SciJava",
   "language": "groovy",
   "name": "scijava"
  },
  "language_info": {
   "codemirror_mode": "groovy",
   "file_extension": "",
   "mimetype": "",
   "name": "scijava",
   "nbconverter_exporter": "",
   "pygments_lexer": "groovy",
   "version": "1.0"
  }
 },
 "nbformat": 4,
 "nbformat_minor": 2
}
